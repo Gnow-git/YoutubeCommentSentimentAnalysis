{
  "nbformat": 4,
  "nbformat_minor": 0,
  "metadata": {
    "colab": {
      "provenance": [],
      "include_colab_link": true
    },
    "kernelspec": {
      "name": "python3",
      "display_name": "Python 3"
    },
    "language_info": {
      "name": "python"
    },
    "accelerator": "GPU",
    "gpuClass": "standard"
  },
  "cells": [
    {
      "cell_type": "markdown",
      "metadata": {
        "id": "view-in-github",
        "colab_type": "text"
      },
      "source": [
        "<a href=\"https://colab.research.google.com/github/Gnow-git/YoutubeCommentSentimentAnalysis/blob/main/kobert.ipynb\" target=\"_parent\"><img src=\"https://colab.research.google.com/assets/colab-badge.svg\" alt=\"Open In Colab\"/></a>"
      ]
    },
    {
      "cell_type": "markdown",
      "source": [
        "환경설정"
      ],
      "metadata": {
        "id": "L7JtuZLWLEh9"
      }
    },
    {
      "cell_type": "code",
      "execution_count": null,
      "metadata": {
        "id": "Z-CfJm6JKnVn"
      },
      "outputs": [],
      "source": [
        "!pip install mxnet\n",
        "!pip install gluonnlp pandas tqdm\n",
        "!pip install sentencepiece\n",
        "!export TORCH_CUDA_ARCH_LIST=8.6\n",
        "!pip install transformers==4.8.1\n",
        "!pip install torch\n"
      ]
    },
    {
      "cell_type": "code",
      "source": [
        "import torch"
      ],
      "metadata": {
        "id": "Dkro6XgKNW_h"
      },
      "execution_count": null,
      "outputs": []
    },
    {
      "cell_type": "code",
      "source": [
        "!pip install git+https://git@github.com/SKTBrain/KoBERT.git@master"
      ],
      "metadata": {
        "id": "AYbc-YhlK0bh",
        "collapsed": true
      },
      "execution_count": null,
      "outputs": []
    },
    {
      "cell_type": "code",
      "source": [
        "from torch import nn\n",
        "import torch.nn.functional as F\n",
        "import torch.optim as optim\n",
        "from torch.utils.data import Dataset, DataLoader\n",
        "import gluonnlp as nlp\n",
        "import numpy as np\n",
        "from tqdm import tqdm, tqdm_notebook\n",
        "import pandas as pd\n",
        "import matplotlib.pyplot as plt\n",
        "import urllib.request\n",
        "import json\n",
        "\n",
        "#kobert\n",
        "from kobert.utils import get_tokenizer\n",
        "from kobert.pytorch_kobert import get_pytorch_kobert_model\n",
        "\n",
        "#transformers\n",
        "from transformers import AdamW\n",
        "from transformers.optimization import get_cosine_schedule_with_warmup\n",
        "\n",
        "#GPU 사용\n",
        "device = torch.device(\"cuda:0\")\n",
        "\n",
        "#BERT 모델, Vocabulary 불러오기\n",
        "bertmodel, vocab = get_pytorch_kobert_model()"
      ],
      "metadata": {
        "id": "ijjpyOWhK2hU"
      },
      "execution_count": null,
      "outputs": []
    },
    {
      "cell_type": "markdown",
      "source": [
        "전처리"
      ],
      "metadata": {
        "id": "Y3gPy_sRLJd0"
      }
    },
    {
      "cell_type": "code",
      "source": [
        "anno = []\n",
        "result = []\n",
        "rate = {\n",
        "    \"강긍정\" : 5,\n",
        "    \"약긍정\" : 4,\n",
        "    \"부분긍정\" : 3,\n",
        "    \"부분부정\" : 3,\n",
        "    \"약부정\" : 2,\n",
        "    \"강부정\" : 1\n",
        "}\n",
        "\n",
        "# print(total_data)\n",
        "\n",
        "with open (\"/content/sample_data/annotations.json\", encoding=\"utf-8\") as f:\n",
        "    dict = json.load(f)\n",
        "    examples = dict[\"examples\"]\n",
        "    for jsons in examples:\n",
        "        if(len(jsons['annotations']) != 0):\n",
        "            anno.append(jsons)\n",
        "\n",
        "    for annotation in anno:\n",
        "        for tag in annotation['annotations']:\n",
        "            newJson = {\n",
        "                'ratings': rate[tag['tag']],\n",
        "                'reviews': tag['value']\n",
        "            }\n",
        "            result.append(newJson)\n",
        "            \n",
        "    finalresult = json.dumps(result)\n",
        "\n",
        "urllib.request.urlretrieve(\"https://raw.githubusercontent.com/bab2min/corpus/master/sentiment/naver_shopping.txt\", filename=\"ratings_total.txt\")\n",
        "\n",
        "\n",
        "chatbot_data = pd.read_table('ratings_total.txt', names=['ratings', 'reviews'])"
      ],
      "metadata": {
        "id": "JjV4rBH8LTEE"
      },
      "execution_count": 21,
      "outputs": []
    },
    {
      "cell_type": "code",
      "source": [
        "chatbot_data_youtube = pd.DataFrame(result)\n",
        "\n",
        "chatbot_data = pd.concat( [chatbot_data, chatbot_data_youtube] )\n",
        "\n",
        "print('전체 리뷰 개수 : ', len(chatbot_data))"
      ],
      "metadata": {
        "id": "5Zfa_FHuLgWD",
        "colab": {
          "base_uri": "https://localhost:8080/"
        },
        "outputId": "a60df5c7-6970-4e95-da21-6bc9ed9674a2"
      },
      "execution_count": 26,
      "outputs": [
        {
          "output_type": "stream",
          "name": "stdout",
          "text": [
            "전체 리뷰 개수 :  202142\n"
          ]
        }
      ]
    },
    {
      "cell_type": "code",
      "source": [
        "chatbot_data.sample(n=10)"
      ],
      "metadata": {
        "id": "Ke6gEVBiL-CF",
        "colab": {
          "base_uri": "https://localhost:8080/",
          "height": 407
        },
        "outputId": "14359d99-054a-4ca4-d8f5-e7e36c4abc87"
      },
      "execution_count": 27,
      "outputs": [
        {
          "output_type": "execute_result",
          "data": {
            "text/plain": [
              "        ratings                                            reviews\n",
              "196907        1  치수를제가실수로기입한건제잘못인데 10만원씩이나주고산거 왕복택배비지불할테니수정요청하였...\n",
              "111278        5                                   완전싱싱하고 달콤하니 맛있어요\n",
              "89295         1                     마감처리 안좋고.. 정품이랑 재질이 너무 차이나요 .ㅋ\n",
              "177619        5         크기도 작고 모양도 예뻐서 사무실에서 쓰기 딱 좋아요 ㅎㅎ 완전 맘에드네용!\n",
              "133232        4                                      상품은 좋아요~만족합니다\n",
              "63918         5                           몇번째 재구매인지 모르겠네요 맛있어요..진짜\n",
              "158435        5                                     예쁘고 용량도 크고 좋아요\n",
              "113503        5  셋째태어나면쓸려고 미리주문했는데 150ml 한두달정도못쓰는데 쓰고나면과자통으로쓸려구...\n",
              "85353         1  온수 온도가 29도 이상 올라가지 않아요 온도차가 광고랑 너무 다른거 아닌가요 몇십...\n",
              "24366         5                      트라이탄소재라 안심하고 주문했어요 새감도 너무 여뻐요"
            ],
            "text/html": [
              "\n",
              "  <div id=\"df-a9a82977-ca8e-4372-97b8-0fd8cc43165f\">\n",
              "    <div class=\"colab-df-container\">\n",
              "      <div>\n",
              "<style scoped>\n",
              "    .dataframe tbody tr th:only-of-type {\n",
              "        vertical-align: middle;\n",
              "    }\n",
              "\n",
              "    .dataframe tbody tr th {\n",
              "        vertical-align: top;\n",
              "    }\n",
              "\n",
              "    .dataframe thead th {\n",
              "        text-align: right;\n",
              "    }\n",
              "</style>\n",
              "<table border=\"1\" class=\"dataframe\">\n",
              "  <thead>\n",
              "    <tr style=\"text-align: right;\">\n",
              "      <th></th>\n",
              "      <th>ratings</th>\n",
              "      <th>reviews</th>\n",
              "    </tr>\n",
              "  </thead>\n",
              "  <tbody>\n",
              "    <tr>\n",
              "      <th>196907</th>\n",
              "      <td>1</td>\n",
              "      <td>치수를제가실수로기입한건제잘못인데 10만원씩이나주고산거 왕복택배비지불할테니수정요청하였...</td>\n",
              "    </tr>\n",
              "    <tr>\n",
              "      <th>111278</th>\n",
              "      <td>5</td>\n",
              "      <td>완전싱싱하고 달콤하니 맛있어요</td>\n",
              "    </tr>\n",
              "    <tr>\n",
              "      <th>89295</th>\n",
              "      <td>1</td>\n",
              "      <td>마감처리 안좋고.. 정품이랑 재질이 너무 차이나요 .ㅋ</td>\n",
              "    </tr>\n",
              "    <tr>\n",
              "      <th>177619</th>\n",
              "      <td>5</td>\n",
              "      <td>크기도 작고 모양도 예뻐서 사무실에서 쓰기 딱 좋아요 ㅎㅎ 완전 맘에드네용!</td>\n",
              "    </tr>\n",
              "    <tr>\n",
              "      <th>133232</th>\n",
              "      <td>4</td>\n",
              "      <td>상품은 좋아요~만족합니다</td>\n",
              "    </tr>\n",
              "    <tr>\n",
              "      <th>63918</th>\n",
              "      <td>5</td>\n",
              "      <td>몇번째 재구매인지 모르겠네요 맛있어요..진짜</td>\n",
              "    </tr>\n",
              "    <tr>\n",
              "      <th>158435</th>\n",
              "      <td>5</td>\n",
              "      <td>예쁘고 용량도 크고 좋아요</td>\n",
              "    </tr>\n",
              "    <tr>\n",
              "      <th>113503</th>\n",
              "      <td>5</td>\n",
              "      <td>셋째태어나면쓸려고 미리주문했는데 150ml 한두달정도못쓰는데 쓰고나면과자통으로쓸려구...</td>\n",
              "    </tr>\n",
              "    <tr>\n",
              "      <th>85353</th>\n",
              "      <td>1</td>\n",
              "      <td>온수 온도가 29도 이상 올라가지 않아요 온도차가 광고랑 너무 다른거 아닌가요 몇십...</td>\n",
              "    </tr>\n",
              "    <tr>\n",
              "      <th>24366</th>\n",
              "      <td>5</td>\n",
              "      <td>트라이탄소재라 안심하고 주문했어요 새감도 너무 여뻐요</td>\n",
              "    </tr>\n",
              "  </tbody>\n",
              "</table>\n",
              "</div>\n",
              "      <button class=\"colab-df-convert\" onclick=\"convertToInteractive('df-a9a82977-ca8e-4372-97b8-0fd8cc43165f')\"\n",
              "              title=\"Convert this dataframe to an interactive table.\"\n",
              "              style=\"display:none;\">\n",
              "        \n",
              "  <svg xmlns=\"http://www.w3.org/2000/svg\" height=\"24px\"viewBox=\"0 0 24 24\"\n",
              "       width=\"24px\">\n",
              "    <path d=\"M0 0h24v24H0V0z\" fill=\"none\"/>\n",
              "    <path d=\"M18.56 5.44l.94 2.06.94-2.06 2.06-.94-2.06-.94-.94-2.06-.94 2.06-2.06.94zm-11 1L8.5 8.5l.94-2.06 2.06-.94-2.06-.94L8.5 2.5l-.94 2.06-2.06.94zm10 10l.94 2.06.94-2.06 2.06-.94-2.06-.94-.94-2.06-.94 2.06-2.06.94z\"/><path d=\"M17.41 7.96l-1.37-1.37c-.4-.4-.92-.59-1.43-.59-.52 0-1.04.2-1.43.59L10.3 9.45l-7.72 7.72c-.78.78-.78 2.05 0 2.83L4 21.41c.39.39.9.59 1.41.59.51 0 1.02-.2 1.41-.59l7.78-7.78 2.81-2.81c.8-.78.8-2.07 0-2.86zM5.41 20L4 18.59l7.72-7.72 1.47 1.35L5.41 20z\"/>\n",
              "  </svg>\n",
              "      </button>\n",
              "      \n",
              "  <style>\n",
              "    .colab-df-container {\n",
              "      display:flex;\n",
              "      flex-wrap:wrap;\n",
              "      gap: 12px;\n",
              "    }\n",
              "\n",
              "    .colab-df-convert {\n",
              "      background-color: #E8F0FE;\n",
              "      border: none;\n",
              "      border-radius: 50%;\n",
              "      cursor: pointer;\n",
              "      display: none;\n",
              "      fill: #1967D2;\n",
              "      height: 32px;\n",
              "      padding: 0 0 0 0;\n",
              "      width: 32px;\n",
              "    }\n",
              "\n",
              "    .colab-df-convert:hover {\n",
              "      background-color: #E2EBFA;\n",
              "      box-shadow: 0px 1px 2px rgba(60, 64, 67, 0.3), 0px 1px 3px 1px rgba(60, 64, 67, 0.15);\n",
              "      fill: #174EA6;\n",
              "    }\n",
              "\n",
              "    [theme=dark] .colab-df-convert {\n",
              "      background-color: #3B4455;\n",
              "      fill: #D2E3FC;\n",
              "    }\n",
              "\n",
              "    [theme=dark] .colab-df-convert:hover {\n",
              "      background-color: #434B5C;\n",
              "      box-shadow: 0px 1px 3px 1px rgba(0, 0, 0, 0.15);\n",
              "      filter: drop-shadow(0px 1px 2px rgba(0, 0, 0, 0.3));\n",
              "      fill: #FFFFFF;\n",
              "    }\n",
              "  </style>\n",
              "\n",
              "      <script>\n",
              "        const buttonEl =\n",
              "          document.querySelector('#df-a9a82977-ca8e-4372-97b8-0fd8cc43165f button.colab-df-convert');\n",
              "        buttonEl.style.display =\n",
              "          google.colab.kernel.accessAllowed ? 'block' : 'none';\n",
              "\n",
              "        async function convertToInteractive(key) {\n",
              "          const element = document.querySelector('#df-a9a82977-ca8e-4372-97b8-0fd8cc43165f');\n",
              "          const dataTable =\n",
              "            await google.colab.kernel.invokeFunction('convertToInteractive',\n",
              "                                                     [key], {});\n",
              "          if (!dataTable) return;\n",
              "\n",
              "          const docLinkHtml = 'Like what you see? Visit the ' +\n",
              "            '<a target=\"_blank\" href=https://colab.research.google.com/notebooks/data_table.ipynb>data table notebook</a>'\n",
              "            + ' to learn more about interactive tables.';\n",
              "          element.innerHTML = '';\n",
              "          dataTable['output_type'] = 'display_data';\n",
              "          await google.colab.output.renderOutput(dataTable, element);\n",
              "          const docLink = document.createElement('div');\n",
              "          docLink.innerHTML = docLinkHtml;\n",
              "          element.appendChild(docLink);\n",
              "        }\n",
              "      </script>\n",
              "    </div>\n",
              "  </div>\n",
              "  "
            ]
          },
          "metadata": {},
          "execution_count": 27
        }
      ]
    },
    {
      "cell_type": "markdown",
      "source": [
        "감정 단어 숫자로 변경"
      ],
      "metadata": {
        "id": "qS91JimyPWkU"
      }
    },
    {
      "cell_type": "code",
      "source": [
        "chatbot_data.loc[(chatbot_data['ratings'] == \"강부정\"), 'ratings'] = 1  #강부정 => 1\n",
        "chatbot_data.loc[(chatbot_data['ratings'] == \"약부정\"), 'ratings'] = 1  #약부정 => 1\n",
        "chatbot_data.loc[(chatbot_data['ratings'] == \"부분긍정\"), 'ratings'] = 3  #복합적 => 3\n",
        "chatbot_data.loc[(chatbot_data['ratings'] == \"부분부정\"), 'ratings'] = 3  #복합적 => 3\n",
        "chatbot_data.loc[(chatbot_data['ratings'] == \"약긍정\"), 'ratings'] = 5  #약긍정 => 5\n",
        "chatbot_data.loc[(chatbot_data['ratings'] == \"강긍정\"), 'ratings'] = 5  #강긍정 => 5\n",
        "\n",
        "data_list = []\n",
        "\n",
        "for q, label in zip(chatbot_data['reviews'], chatbot_data['ratings'])  :\n",
        "    data = []\n",
        "    data.append(q)\n",
        "    data.append(str(label))\n",
        "\n",
        "    data_list.append(data)\n"
      ],
      "metadata": {
        "id": "3jKdVc7zMB5N"
      },
      "execution_count": 28,
      "outputs": []
    },
    {
      "cell_type": "markdown",
      "source": [
        "데이터셋 일부 출력"
      ],
      "metadata": {
        "id": "H8yed4pwPlbX"
      }
    },
    {
      "cell_type": "code",
      "source": [
        "print(data_list[0])\n",
        "print(data_list[6000])\n",
        "print(data_list[12000])\n",
        "print(data_list[18000])\n",
        "print(data_list[24000])\n",
        "print(data_list[30000])\n",
        "print(data_list[-1])"
      ],
      "metadata": {
        "id": "dmb4n_hsMa_n",
        "colab": {
          "base_uri": "https://localhost:8080/"
        },
        "outputId": "82c556ed-9d3d-4c80-bbb6-cac1888a3f13"
      },
      "execution_count": 30,
      "outputs": [
        {
          "output_type": "stream",
          "name": "stdout",
          "text": [
            "['배공빠르고 굿', '5']\n",
            "['머릿결 끝이 거의 타다시피해서 엄청 개톨이엿는데 이거 발랏을때는 좀 부드러워지는것 같아요 끈적임도 없고 ㅎㅎ본품은 아직 개봉전이고 샘플 사용중인데 좋은거 같아요', '4']\n",
            "['넘좋으네요 이걸로 파데로썼는데괜찮네요', '1']\n",
            "['상품을받아서 뚜껑을 열었더니 이렇게 띁어져있네요~ 제품엔 이상없는거같고 반품귀찮아서 그냥먹긴 하겠는데 잘좀확인하시고 보내주세요~~ 이런경우는 첨이라 당황스럽네요~~', '1']\n",
            "['시간지나면 건조해요', '2']\n",
            "['울냥이들은 성격이 급해 사료나오는곳만 보네요 바보들~~조만간 이해하겠죠', '4']\n",
            "['휴대성은 확실히 좋아요', '5']\n"
          ]
        }
      ]
    },
    {
      "cell_type": "markdown",
      "source": [
        "Train data & Test data 나누기"
      ],
      "metadata": {
        "id": "a-7_iytNO3L_"
      }
    },
    {
      "cell_type": "code",
      "source": [
        "#train & test 데이터로 나누기\n",
        "from sklearn.model_selection import train_test_split\n",
        "                                                         \n",
        "dataset_train, dataset_test = train_test_split(data_list, test_size=0.25, random_state=0)"
      ],
      "metadata": {
        "id": "rTB1siYlO6z6"
      },
      "execution_count": 31,
      "outputs": []
    },
    {
      "cell_type": "code",
      "source": [
        "print('훈련용 리뷰 개수 :', len(dataset_train))\n",
        "print('테스트용 리뷰 개수 :', len(dataset_test))"
      ],
      "metadata": {
        "id": "q4youLOzO9kj",
        "colab": {
          "base_uri": "https://localhost:8080/"
        },
        "outputId": "3e9c5f8a-2803-4224-a5a8-cf722c28eee9"
      },
      "execution_count": 32,
      "outputs": [
        {
          "output_type": "stream",
          "name": "stdout",
          "text": [
            "훈련용 리뷰 개수 : 151606\n",
            "테스트용 리뷰 개수 : 50536\n"
          ]
        }
      ]
    },
    {
      "cell_type": "markdown",
      "source": [
        "KoBERT 입력데이터 만들기"
      ],
      "metadata": {
        "id": "jfAkF-oyPT7u"
      }
    },
    {
      "cell_type": "code",
      "source": [
        "class BERTDataset(Dataset):\n",
        "    def __init__(self, dataset, sent_idx, label_idx, bert_tokenizer, max_len,\n",
        "                 pad, pair):\n",
        "        transform = nlp.data.BERTSentenceTransform(\n",
        "            bert_tokenizer, max_seq_length=max_len, pad=pad, pair=pair)\n",
        "\n",
        "        self.sentences = [transform([i[sent_idx]]) for i in dataset]\n",
        "        self.labels = [np.int32(i[label_idx]) for i in dataset]\n",
        "\n",
        "    def __getitem__(self, i):\n",
        "        return (self.sentences[i] + (self.labels[i], ))\n",
        "\n",
        "    def __len__(self):\n",
        "        return (len(self.labels))"
      ],
      "metadata": {
        "id": "nJDxenauPWSq"
      },
      "execution_count": null,
      "outputs": []
    },
    {
      "cell_type": "markdown",
      "source": [
        "하이퍼 파라미터 설정"
      ],
      "metadata": {
        "id": "exMoc8jYQQsE"
      }
    },
    {
      "cell_type": "code",
      "source": [
        "max_len = 64\n",
        "batch_size = 32\n",
        "warmup_ratio = 0.1\n",
        "num_epochs = 5\n",
        "max_grad_norm = 1\n",
        "log_interval = 200\n",
        "learning_rate =  5e-5"
      ],
      "metadata": {
        "id": "ikMCu1w4SsBg"
      },
      "execution_count": null,
      "outputs": []
    },
    {
      "cell_type": "code",
      "source": [
        "#토큰화\n",
        "tokenizer = get_tokenizer()\n",
        "tok = nlp.data.BERTSPTokenizer(tokenizer, vocab, lower=False)\n",
        "\n",
        "data_train = BERTDataset(dataset_train, 0, 1, tok, max_len, True, False)\n",
        "data_test = BERTDataset(dataset_test, 0, 1, tok, max_len, True, False)"
      ],
      "metadata": {
        "id": "laeOQw1USu4D"
      },
      "execution_count": null,
      "outputs": []
    },
    {
      "cell_type": "markdown",
      "source": [],
      "metadata": {
        "id": "lmkH9C6yP-3o"
      }
    },
    {
      "cell_type": "code",
      "source": [
        "data_train[0]"
      ],
      "metadata": {
        "id": "UF3RSaE6P7Nf"
      },
      "execution_count": null,
      "outputs": []
    },
    {
      "cell_type": "markdown",
      "source": [
        "torch 형식 dataset 만들기"
      ],
      "metadata": {
        "id": "Mo6GZ_1rQsuJ"
      }
    },
    {
      "cell_type": "code",
      "source": [
        "train_dataloader = torch.utils.data.DataLoader(data_train, batch_size=batch_size, num_workers=5)\n",
        "test_dataloader = torch.utils.data.DataLoader(data_test, batch_size=batch_size, num_workers=5)"
      ],
      "metadata": {
        "id": "C7T94dQWS2Oo"
      },
      "execution_count": null,
      "outputs": []
    },
    {
      "cell_type": "markdown",
      "source": [
        "kobert 학습모델 만들기"
      ],
      "metadata": {
        "id": "S75wokMMS6lj"
      }
    },
    {
      "cell_type": "markdown",
      "source": [
        "num_classes = 다중분류할 클래스 수"
      ],
      "metadata": {
        "id": "9yw-RlVIRNyc"
      }
    },
    {
      "cell_type": "code",
      "source": [
        "class BERTClassifier(nn.Module):\n",
        "    def __init__(self,\n",
        "                 bert,\n",
        "                 hidden_size = 768,\n",
        "                 num_classes=3,   ##클래스 수 조정##\n",
        "                 dr_rate=None,\n",
        "                 params=None):\n",
        "        super(BERTClassifier, self).__init__()\n",
        "        self.bert = bert\n",
        "        self.dr_rate = dr_rate\n",
        "                 \n",
        "        self.classifier = nn.Linear(hidden_size , num_classes)\n",
        "        if dr_rate:\n",
        "            self.dropout = nn.Dropout(p=dr_rate)\n",
        "    \n",
        "    def gen_attention_mask(self, token_ids, valid_length):\n",
        "        attention_mask = torch.zeros_like(token_ids)\n",
        "        for i, v in enumerate(valid_length):\n",
        "            attention_mask[i][:v] = 1\n",
        "        return attention_mask.float()\n",
        "\n",
        "    def forward(self, token_ids, valid_length, segment_ids):\n",
        "        attention_mask = self.gen_attention_mask(token_ids, valid_length)\n",
        "        \n",
        "        _, pooler = self.bert(input_ids = token_ids, token_type_ids = segment_ids.long(), attention_mask = attention_mask.float().to(token_ids.device))\n",
        "        if self.dr_rate:\n",
        "            out = self.dropout(pooler)\n",
        "        return self.classifier(out)"
      ],
      "metadata": {
        "id": "_ti1YmnVS4TL"
      },
      "execution_count": null,
      "outputs": []
    },
    {
      "cell_type": "code",
      "source": [
        "!pip install git+https://github.com/deepset-ai/haystack.git\n",
        "!pip install farm-haystack"
      ],
      "metadata": {
        "collapsed": true,
        "id": "n7mN0rcBNRFH"
      },
      "execution_count": null,
      "outputs": []
    },
    {
      "cell_type": "code",
      "source": [
        "criterion=nn.BCEWithLogitsLoss()\n",
        "criterion=nn.BCELoss()\n",
        "CUDA_LAUNCH_BLOCKING = \"1\"\n",
        "#BERT 모델 불러오기\n",
        "model = BERTClassifier(bertmodel,  dr_rate=0.5).to(device)\n",
        "\n",
        "#optimizer와 schedule 설정\n",
        "no_decay = ['bias', 'LayerNorm.weight']\n",
        "optimizer_grouped_parameters = [\n",
        "    {'params': [p for n, p in model.named_parameters() if not any(nd in n for nd in no_decay)], 'weight_decay': 0.01},\n",
        "    {'params': [p for n, p in model.named_parameters() if any(nd in n for nd in no_decay)], 'weight_decay': 0.0}\n",
        "]\n",
        "\n",
        "optimizer = AdamW(optimizer_grouped_parameters, lr=learning_rate)\n",
        "loss_fn = nn.CrossEntropyLoss()\n",
        "\n",
        "t_total = len(train_dataloader) * num_epochs\n",
        "warmup_step = int(t_total * warmup_ratio)\n",
        "\n",
        "scheduler = get_cosine_schedule_with_warmup(optimizer, num_warmup_steps=warmup_step, num_training_steps=t_total)\n",
        "\n",
        "#정확도 측정을 위한 함수 정의\n",
        "def calc_accuracy(X,Y):\n",
        "    max_vals, max_indices = torch.max(X, 1)\n",
        "    train_acc = (max_indices == Y).sum().data.cpu().numpy()/max_indices.size()[0]\n",
        "    return train_acc\n",
        "    \n",
        "train_dataloader"
      ],
      "metadata": {
        "id": "0hLUZZWrTCBD"
      },
      "execution_count": null,
      "outputs": []
    },
    {
      "cell_type": "markdown",
      "source": [
        "kobert 모델 학습시키기"
      ],
      "metadata": {
        "id": "7fCBWHD9TGvr"
      }
    },
    {
      "cell_type": "code",
      "source": [
        "for e in range(num_epochs):\n",
        "    train_acc = 0.0\n",
        "    test_acc = 0.0\n",
        "    model.train()\n",
        "    for batch_id, (token_ids, valid_length, segment_ids, label) in enumerate(tqdm(train_dataloader)):\n",
        "        optimizer.zero_grad()\n",
        "        token_ids = token_ids.long().to(device)\n",
        "        segment_ids = segment_ids.long().to(device)\n",
        "        valid_length= valid_length\n",
        "        label = label.long().to(device)\n",
        "        out = model(token_ids, valid_length, segment_ids)\n",
        "        loss = loss_fn(out, label)\n",
        "        loss.backward()\n",
        "        torch.nn.utils.clip_grad_norm_(model.parameters(), max_grad_norm)\n",
        "        optimizer.step()\n",
        "        scheduler.step()  # Update learning rate schedule\n",
        "        train_acc += calc_accuracy(out, label)\n",
        "        if batch_id % log_interval == 0:\n",
        "            print(\"epoch {} batch id {} loss {} train acc {}\".format(e+1, batch_id+1, loss.data.cpu().numpy(), train_acc / (batch_id+1)))\n",
        "    print(\"epoch {} train acc {}\".format(e+1, train_acc / (batch_id+1)))\n",
        "    \n",
        "    model.eval()\n",
        "    for batch_id, (token_ids, valid_length, segment_ids, label) in enumerate(tqdm(test_dataloader)):\n",
        "        token_ids = token_ids.long().to(device)\n",
        "        segment_ids = segment_ids.long().to(device)\n",
        "        valid_length= valid_length\n",
        "        label = label.long().to(device)\n",
        "        out = model(token_ids, valid_length, segment_ids)\n",
        "        test_acc += calc_accuracy(out, label)\n",
        "    print(\"epoch {} test acc {}\".format(e+1, test_acc / (batch_id+1)))\n"
      ],
      "metadata": {
        "id": "BsjFXaidTELE"
      },
      "execution_count": null,
      "outputs": []
    },
    {
      "cell_type": "code",
      "source": [
        "torch.save(model, 'model.pt')"
      ],
      "metadata": {
        "id": "YkQc2FtRJVdO"
      },
      "execution_count": null,
      "outputs": []
    },
    {
      "cell_type": "code",
      "source": [
        "torch.save(model.state_dict(), 'model1.pt')"
      ],
      "metadata": {
        "id": "2knw8v5yMi4N"
      },
      "execution_count": null,
      "outputs": []
    },
    {
      "cell_type": "code",
      "source": [
        "from google.colab import drive\n",
        "\n",
        "drive.mount(\"/content/drive\")"
      ],
      "metadata": {
        "id": "Mpk_-s_bAkbR"
      },
      "execution_count": null,
      "outputs": []
    },
    {
      "cell_type": "code",
      "source": [
        "history = torch.load('/content/drive/MyDrive/model.pt')"
      ],
      "metadata": {
        "id": "NBZNYub--H1Z"
      },
      "execution_count": null,
      "outputs": []
    },
    {
      "cell_type": "code",
      "source": [
        "def learning_curve(history, num_epochs):\n",
        "  plt.figure(figsize=(10,5))\n",
        "  # 정확도 차트  \n",
        "  epoch_range = np.arange(1, num_epochs + 1)\n",
        "\n",
        "  plt.subplot(1, 2, 1)\n",
        "\n",
        "  plt.plot(epoch_range, history.history['accuracy'])\n",
        "  plt.plot(epoch_range, history.history['val_accuracy'])\n",
        "  plt.title('Model Accuracy')\n",
        "  plt.xlabel('Epoch')\n",
        "  plt.ylabel(\"Accurach\")\n",
        "  plt.legend( ['Train', 'Val']  )\n",
        "  # plt.show()\n",
        "\n",
        "  # loss 차트\n",
        "  plt.subplot(1, 2, 2)\n",
        "\n",
        "  plt.plot(epoch_range, history.history['loss'])\n",
        "  plt.plot(epoch_range, history.history['val_loss'])\n",
        "  plt.title('Model Loss')\n",
        "  plt.xlabel('Epoch')\n",
        "  plt.ylabel(\"Loss\")\n",
        "  plt.legend( ['Train', 'Val']  )\n",
        "\n",
        "  plt.show()"
      ],
      "metadata": {
        "id": "IYC-t5XL9y4g"
      },
      "execution_count": null,
      "outputs": []
    },
    {
      "cell_type": "code",
      "source": [
        "learning_curve(history, 5)"
      ],
      "metadata": {
        "id": "mnW44A9ODun6"
      },
      "execution_count": null,
      "outputs": []
    },
    {
      "cell_type": "markdown",
      "source": [
        "새로운 문장 테스트"
      ],
      "metadata": {
        "id": "s3FgY2LeTPTT"
      }
    },
    {
      "cell_type": "code",
      "source": [
        "#토큰화\n",
        "tokenizer = get_tokenizer()\n",
        "tok = nlp.data.BERTSPTokenizer(tokenizer, vocab, lower=False)\n",
        "\n",
        "def predict(predict_sentence):\n",
        "\n",
        "    data = [predict_sentence, '0']\n",
        "    dataset_another = [data]\n",
        "\n",
        "    another_test = BERTDataset(dataset_another, 0, 1, tok, max_len, True, False)\n",
        "    test_dataloader = torch.utils.data.DataLoader(another_test, batch_size=batch_size, num_workers=5)\n",
        "    \n",
        "    model.eval()\n",
        "\n",
        "    for batch_id, (token_ids, valid_length, segment_ids, label) in enumerate(test_dataloader):\n",
        "        token_ids = token_ids.long().to(device)\n",
        "        segment_ids = segment_ids.long().to(device)\n",
        "\n",
        "        valid_length= valid_length\n",
        "        label = label.long().to(device)\n",
        "\n",
        "        out = model(token_ids, valid_length, segment_ids)\n",
        "\n",
        "\n",
        "        test_eval=[]\n",
        "        for i in out:\n",
        "            logits=i\n",
        "            logits = logits.detach().cpu().numpy()\n",
        "\n",
        "            if np.argmax(logits) == 1:\n",
        "                test_eval.append(\"부정이\")\n",
        "            elif np.argmax(logits) == 3:\n",
        "                test_eval.append(\"복합적인 감정이\")\n",
        "            elif np.argmax(logits) == 5:\n",
        "                test_eval.append(\"강한 긍정이\")\n",
        "\n",
        "        print(\">> 입력하신 내용에서 \" + test_eval[0] + \" 느껴집니다.\")"
      ],
      "metadata": {
        "id": "SNCrbexFTQsH"
      },
      "execution_count": null,
      "outputs": []
    },
    {
      "cell_type": "code",
      "source": [
        "#질문 무한반복하기! 0 입력시 종료\n",
        "end = 1\n",
        "while end == 1 :\n",
        "    sentence = input(\"하고싶은 말을 입력해주세요 : \")\n",
        "    if sentence == 0 :\n",
        "        break\n",
        "    predict(sentence)\n",
        "    print(\"\\n\")"
      ],
      "metadata": {
        "id": "1yVnG06d02T3"
      },
      "execution_count": null,
      "outputs": []
    }
  ]
}